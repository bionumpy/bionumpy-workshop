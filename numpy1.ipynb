{
 "cells": [
  {
   "cell_type": "markdown",
   "source": [
    "We simulate a set of sequences as a numeric matrix:"
   ],
   "metadata": {
    "collapsed": false
   }
  },
  {
   "cell_type": "code",
   "execution_count": 6,
   "outputs": [
    {
     "name": "stdout",
     "output_type": "stream",
     "text": [
      "Cloning into 'bionumpy-example-data'...\r\n",
      "remote: Enumerating objects: 4, done.\u001B[K\r\n",
      "remote: Counting objects: 100% (4/4), done.\u001B[K\r\n",
      "remote: Compressing objects: 100% (3/3), done.\u001B[K\r\n",
      "remote: Total 4 (delta 0), reused 4 (delta 0), pack-reused 0\u001B[K\r\n",
      "Unpacking objects: 100% (4/4), 235.19 KiB | 519.00 KiB/s, done.\r\n"
     ]
    }
   ],
   "source": [
    "!git clone https://github.com/uio-bmi/bionumpy-example-data"
   ],
   "metadata": {
    "collapsed": false
   }
  },
  {
   "cell_type": "code",
   "execution_count": 5,
   "outputs": [
    {
     "name": "stdout",
     "output_type": "stream",
     "text": [
      "[[1 3 1 3 0 0 0 1 0 0]\n",
      " [2 0 2 1 0 0 2 0 3 2]\n",
      " [3 1 3 0 3 0 1 1 0 1]\n",
      " [3 1 3 3 0 3 1 3 0 1]\n",
      " [0 1 3 0 2 3 0 3 2 1]]\n"
     ]
    }
   ],
   "source": [
    "import numpy as np\n",
    "sequence_length = 10\n",
    "n_sequences = 5\n",
    "sequences = np.random.randint(0, 4, (n_sequences, sequence_length))\n",
    "print(sequences)"
   ],
   "metadata": {
    "collapsed": false
   }
  }
 ],
 "metadata": {
  "kernelspec": {
   "display_name": "Python 3",
   "language": "python",
   "name": "python3"
  },
  "language_info": {
   "codemirror_mode": {
    "name": "ipython",
    "version": 2
   },
   "file_extension": ".py",
   "mimetype": "text/x-python",
   "name": "python",
   "nbconvert_exporter": "python",
   "pygments_lexer": "ipython2",
   "version": "2.7.6"
  }
 },
 "nbformat": 4,
 "nbformat_minor": 0
}
