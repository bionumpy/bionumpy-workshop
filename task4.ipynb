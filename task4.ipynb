{
 "cells": [
  {
   "cell_type": "markdown",
   "source": [
    "In this task, you will pick one or more data sets you want to play around with.\n",
    "\n",
    "Start by cloning the example data, which will give you a folder with some data files."
   ],
   "metadata": {
    "collapsed": false
   }
  },
  {
   "cell_type": "code",
   "execution_count": null,
   "metadata": {
    "collapsed": true
   },
   "outputs": [],
   "source": [
    "!git clone https://github.com/uio-bmi/bionumpy-example-data.git\n",
    "!pip install bionumpy"
   ]
  },
  {
   "cell_type": "markdown",
   "source": [
    "Pick a file type you are interested in working with, or upload your own data. Try to read it with BioNumPy and try to do something meaningful with it."
   ],
   "metadata": {
    "collapsed": false
   }
  },
  {
   "cell_type": "code",
   "execution_count": null,
   "outputs": [],
   "source": [
    "import bionumpy as bnp\n",
    "import numpy as np\n",
    "\n",
    "file = bnp.open(\"mydata\")\n",
    "\n",
    "chunk = file.read_chunk()  # or read multiple chunks with file.read_chunk()\n",
    "print(chunk)"
   ],
   "metadata": {
    "collapsed": false
   }
  }
 ],
 "metadata": {
  "kernelspec": {
   "display_name": "Python 3",
   "language": "python",
   "name": "python3"
  },
  "language_info": {
   "codemirror_mode": {
    "name": "ipython",
    "version": 2
   },
   "file_extension": ".py",
   "mimetype": "text/x-python",
   "name": "python",
   "nbconvert_exporter": "python",
   "pygments_lexer": "ipython2",
   "version": "2.7.6"
  }
 },
 "nbformat": 4,
 "nbformat_minor": 0
}
