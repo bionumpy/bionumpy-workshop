{
 "cells": [
  {
   "cell_type": "markdown",
   "source": [
    "In this task, you will read sequences from a fasta file into BioNumPy and do some simple operations on the sequences.\n",
    "\n",
    "First, we will clone a repository with some data. If you do this task on your laptop and not in google colab, you can download this file to the directory where you write your code: https://github.com/uio-bmi/bionumpy-example-data/raw/master/big.fq.gz"
   ],
   "metadata": {
    "collapsed": false
   }
  },
  {
   "cell_type": "code",
   "execution_count": null,
   "outputs": [],
   "source": [
    "!git clone https://github.com/uio-bmi/bionumpy-example-data.git"
   ],
   "metadata": {
    "collapsed": false
   }
  },
  {
   "cell_type": "markdown",
   "source": [
    "After running the above command, you should see a `big.fq.gz` file in the Files tab on the left.\n",
    "\n",
    "We will read this file using BioNumPy"
   ],
   "metadata": {
    "collapsed": false
   }
  },
  {
   "cell_type": "code",
   "execution_count": null,
   "outputs": [],
   "source": [
    "import bionumpy as bnp\n",
    "\n",
    "file = bnp.open(\"bionumpy-example-data/big.fq.gz\")\n",
    "\n",
    "# write code here for reading the first chunk and print it. What does this printout tell you about the file?\n",
    "# hint: You can use .read_chunk() on a file object to read the first chunk\n"
   ],
   "metadata": {
    "collapsed": false
   }
  },
  {
   "cell_type": "markdown",
   "source": [
    "**TASK** Write code that finds the total number of As in all the sequences in the first chunk.\n",
    "\n",
    "Hint: You can get the sequences from a chunk by using the `.sequence` on a chunk object. See task1 if you forgot how to count the number of elements matching something in a matrix/array.\n"
   ],
   "metadata": {
    "collapsed": false
   }
  },
  {
   "cell_type": "code",
   "execution_count": null,
   "outputs": [],
   "source": [
    "# write your code here as a function\n",
    "def count_a(chunk):\n",
    "    # fill in and return the number\n",
    "\n",
    "n = count_a(chunk)"
   ],
   "metadata": {
    "collapsed": false
   }
  },
  {
   "cell_type": "markdown",
   "source": [
    "You now have a function for counting the number of As in a single chunk. Add the `bnp.streamable()` decorator to the function and try to call the function on all chunks instead. See if you can write code so that you find the total number of As in all chunks.\n"
   ],
   "metadata": {
    "collapsed": false
   }
  },
  {
   "cell_type": "code",
   "execution_count": null,
   "outputs": [],
   "source": [
    "chunks = file.read_chunks()  # remember to open the file again also to make sure you get all chunks\n",
    "\n",
    "# add @bnp.streamable() to the function above and\n",
    "# call the function and try to get the total number of As from the results"
   ],
   "metadata": {
    "collapsed": false
   }
  },
  {
   "cell_type": "markdown",
   "source": [
    "If you get 966285 As, you got the correct result!"
   ],
   "metadata": {
    "collapsed": false
   }
  }
 ],
 "metadata": {
  "kernelspec": {
   "display_name": "Python 3",
   "language": "python",
   "name": "python3"
  },
  "language_info": {
   "codemirror_mode": {
    "name": "ipython",
    "version": 2
   },
   "file_extension": ".py",
   "mimetype": "text/x-python",
   "name": "python",
   "nbconvert_exporter": "python",
   "pygments_lexer": "ipython2",
   "version": "2.7.6"
  }
 },
 "nbformat": 4,
 "nbformat_minor": 0
}
