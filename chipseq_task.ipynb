{
 "cells": [
  {
   "cell_type": "markdown",
   "source": [
    "# Analysing ChIP-seq data with BioNumPy\n",
    "\n",
    "In this task, we will use BioNumPy to analyse the transcription factor CTCF. We will work with a publically available dataset from the Encode Project.\n",
    "\n",
    "The task is divided into five parts:\n",
    "\n",
    "1) Filtering/analysing raw FASTQ reads\n",
    "2) Reading peaks (bed-files)\n",
    "3) Working with reference genomes and extracting sequences\n",
    "4) Motif matching and PWMs\n",
    "5) Bonus-task: Find the unknown TF that cobinds with CTCF\n",
    "\n",
    "In this part we also need the `jaspar` Python package for fetching motif PWMs from the Jaspar database, and the `Plotly` plotting package. Start by installing them:"
   ],
   "metadata": {
    "collapsed": false
   }
  },
  {
   "cell_type": "code",
   "execution_count": null,
   "outputs": [],
   "source": [
    "!pip install jaspar\n",
    "!pip install plotly"
   ],
   "metadata": {
    "collapsed": false
   }
  },
  {
   "cell_type": "markdown",
   "source": [
    "We import everything we need:"
   ],
   "metadata": {
    "collapsed": false
   }
  },
  {
   "cell_type": "code",
   "execution_count": null,
   "outputs": [],
   "source": [
    "import bionumpy as bnp\n",
    "import numpy as np\n",
    "import plotly.express as plx\n",
    "from pyjaspar import jaspardb"
   ],
   "metadata": {
    "collapsed": false
   }
  },
  {
   "cell_type": "markdown",
   "source": [
    "## Part 1: FASTQ-files\n",
    "We download raw FASTQ reads from ENCODE (this is the same dataset as used in the intro exercises, so you can skip the download if you already have the data):"
   ],
   "metadata": {
    "collapsed": false
   }
  },
  {
   "cell_type": "code",
   "execution_count": null,
   "outputs": [],
   "source": [
    "!wget https://www.encodeproject.org/files/ENCFF001HTO/@@download/ENCFF001HTO.fastq.gz"
   ],
   "metadata": {
    "collapsed": false
   }
  },
  {
   "cell_type": "markdown",
   "source": [
    "Use BioNumPy and what you have learned until now to briefly analyse the raw reads. For instance, try to find the following (or other things you are interested in):\n",
    "\n",
    "* The total number of reads\n",
    "* The total number of bases in the reads\n",
    "* The average read length\n",
    "* The total number of G and C\n",
    "* The GC-content\n",
    "* The average base quality\n",
    "\n",
    "Feel free to look at code from the previous part if you've forgotten how to do things."
   ],
   "metadata": {
    "collapsed": false
   }
  },
  {
   "cell_type": "markdown",
   "source": [
    "## Part 2: Reading bed-files\n",
    "\n",
    "Assume we have used the FASTQ-reads from the previous part to perform peak calling of the CTCF trancsription factor (e.g. using the MACS 2 peak caller).\n",
    "\n",
    "We have obtained a bed file with the called peaks. This file contains intervals on a reference genome. We also need the hg38 reference genome sequence:"
   ],
   "metadata": {
    "collapsed": false
   }
  },
  {
   "cell_type": "code",
   "execution_count": null,
   "outputs": [],
   "source": [
    "#Download the bed file\n",
    "!wget https://www.encodeproject.org/files/ENCFF843VHC/@@download/ENCFF843VHC.bed.gz\n",
    "# Download the hg38 reference genome and unzip it\n",
    "!wget https://hgdownload.soe.ucsc.edu/goldenPath/hg38/bigZips/hg38.fa.gz\n",
    "!gunzip hg38.fa.gz"
   ],
   "metadata": {
    "collapsed": false
   }
  },
  {
   "cell_type": "markdown",
   "source": [
    "**TASK**\n",
    "\n",
    "Open and read the bed file using BioNumPy. Find out which fields your dataset has. NOTE: The bed file is quite small and we can fit it all into memory. Thus we can use `.read()` instead of reading single chunks:"
   ],
   "metadata": {
    "collapsed": false
   }
  },
  {
   "cell_type": "code",
   "execution_count": null,
   "outputs": [],
   "source": [
    "# your code here\n",
    "file = # .. open the file\n",
    "peaks = file.read()"
   ],
   "metadata": {
    "collapsed": false
   }
  },
  {
   "cell_type": "markdown",
   "source": [
    "** TASK **\n",
    "\n",
    "* How many peaks are there on chromosome 14?\n",
    "* What is the average peak size? (Hint: `peaks.stop-peaks.start` works)"
   ],
   "metadata": {
    "collapsed": false
   }
  },
  {
   "cell_type": "code",
   "execution_count": null,
   "outputs": [],
   "source": [
    "# You can write code here"
   ],
   "metadata": {
    "collapsed": false
   }
  },
  {
   "cell_type": "markdown",
   "source": [
    "## Part 3: Working with reference genomes and combining data sets"
   ],
   "metadata": {
    "collapsed": false
   }
  },
  {
   "cell_type": "markdown",
   "source": [
    "We want to be able to extract the reference genome sequence from each peak so that we can analyse motif patterns within peaks. BioNumPy supports reading and indexing of reference genome files quite efficiently:"
   ],
   "metadata": {
    "collapsed": false
   }
  },
  {
   "cell_type": "code",
   "execution_count": null,
   "outputs": [],
   "source": [
    "reference_genome = bnp.open_indexed(\"hg38.fa\")\n",
    "chromosome5_sequence = reference_genome[\"chr5\"]\n",
    "some_region_sequence = reference_genome[\"chr5\"][12345:12360]\n",
    "print(some_region_sequence)"
   ],
   "metadata": {
    "collapsed": false
   }
  },
  {
   "cell_type": "markdown",
   "source": [
    "PS: If an index file (hg38.fa.fai) does not exist, BioNumPy will create it the first time you open the reference genome. Thus, the above code may take a couple of minutes to run the first time you run it.\n",
    "\n",
    "**TASK**\n",
    "\n",
    "How many Gs are there in chromosome 1 of hg38? What is the GC-content in chromosome 1?"
   ],
   "metadata": {
    "collapsed": false
   }
  },
  {
   "cell_type": "code",
   "execution_count": null,
   "outputs": [],
   "source": [
    "# You can write code here"
   ],
   "metadata": {
    "collapsed": false
   }
  },
  {
   "cell_type": "markdown",
   "source": [
    "We've seen that we can extract sequences from single regions using simple lookup-like syntax. However, if we want to analyse the sequences of our 40k+ CTCF peaks, we cannot do this by querying one sequence at a time. Instead, BioNumPy lets us efficiently get all the reference genome sequences from all our peaks:"
   ],
   "metadata": {
    "collapsed": false
   }
  },
  {
   "cell_type": "code",
   "execution_count": null,
   "outputs": [],
   "source": [
    "contig_lengths = reference_genome.get_contig_lengths()\n",
    "sorted_peaks = bnp.arithmetics.sort_all_intervals(peaks, sort_order=list(contig_lengths.keys()))\n",
    "multistream = bnp.MultiStream(contig_lengths,\n",
    "                              intervals=sorted_peaks,\n",
    "                              sequence=reference_genome)\n",
    "sequence_stream = bnp.sequence.get_sequences(multistream.sequence,\n",
    "                                             multistream.intervals)\n",
    "sequences = np.concatenate(list(sequence_stream))"
   ],
   "metadata": {
    "collapsed": false
   }
  },
  {
   "cell_type": "markdown",
   "source": [
    "We now have all the sequences of all the peaks efficiently stored in a NumPy-like data structure (EncodedRaggedArray). We can thus use BioNumPy to analyse these sequences.\n",
    "\n",
    "We know that the CTCF transcription factor often binds to `CCCTC`. Remember from the previous exercise that we can get a boolean mask of where a sequence is matching like this:"
   ],
   "metadata": {
    "collapsed": false
   }
  },
  {
   "cell_type": "code",
   "execution_count": null,
   "outputs": [],
   "source": [
    "matches = bnp.sequence.string_matcher.match_string(sequences, \"CCCTC\")"
   ],
   "metadata": {
    "collapsed": false
   }
  },
  {
   "cell_type": "markdown",
   "source": [
    "`matches` is a RaggedArray, with one row per sequence. We would expect CTCF to bind close to the center of the peak. Thus, it could be interesting to find the position of each match within each peak and plot the positions as a histogram:"
   ],
   "metadata": {
    "collapsed": false
   }
  },
  {
   "cell_type": "code",
   "execution_count": null,
   "outputs": [],
   "source": [
    "row_positions, column_position = np.nonzero(matches)\n",
    "fig = plx.histogram(column_position)\n",
    "fig.show()"
   ],
   "metadata": {
    "collapsed": false
   }
  },
  {
   "cell_type": "markdown",
   "source": [
    "If you are able to generate the plot using the code above, you should see a distinct enrichment at around 130 bp (which is typically in the middle of most peaks).\n",
    "\n",
    "**TASK**\n",
    "\n",
    "* Generate the plot for another \"random\" sequence, such as \"GAGAGA\". Does the plot still show a distinct peak at the center?\n",
    "* What is the GC-content inside the peak sequences? Is it higher than the GC-content of e.g. chromosome 1?\n"
   ],
   "metadata": {
    "collapsed": false
   }
  },
  {
   "cell_type": "markdown",
   "source": [
    "## Part 4: Motif matching\n",
    "\n",
    "In the previous exercise, we looked for a very simple sequence pattern `CCCTC`. However, the preference that a transcription factor has to bind to a sequence can be represented better using a Position Weight Matrix (PWM). Such PWMs have been computed for many common transcription factors, and are available through the Jaspar Database.\n",
    "\n",
    "We can get the PWM for CTCF from Jaspar like this:"
   ],
   "metadata": {
    "collapsed": false
   }
  },
  {
   "cell_type": "code",
   "execution_count": null,
   "outputs": [],
   "source": [
    "from bionumpy.sequence.position_weight_matrix import PWM, get_motif_scores\n",
    "jaspar_object = jaspardb(release=\"JASPAR2020\")\n",
    "ctcf_motif = jaspar_object.fetch_motifs_by_name('CTCF')[0] # we pick the first of possible hits\n",
    "ctcf_pwm = PWM.from_dict(ctcf_motif.pwm)\n",
    "print(ctcf_pwm)"
   ],
   "metadata": {
    "collapsed": false
   }
  },
  {
   "cell_type": "markdown",
   "source": [
    "We can compute the score of this motif against all the sequences and get an estimate of how likely it is to bind:"
   ],
   "metadata": {
    "collapsed": false
   }
  },
  {
   "cell_type": "code",
   "execution_count": null,
   "outputs": [],
   "source": [
    "motif_scores = get_motif_scores(sequences, ctcf_pwm)\n",
    "# we adjust the score for sequence length\n",
    "adjusted_scores = motif_scores-np.logaddexp(motif_scores, ctcf_motif.length*np.log(0.25))\n",
    "\n",
    "# assume that a score higher than 0.9 means that CTCF is likely to bind\n",
    "sites = adjusted_scores > np.log(0.9)\n",
    "print(sites)"
   ],
   "metadata": {
    "collapsed": false
   }
  },
  {
   "cell_type": "markdown",
   "source": [
    "The `sites` variable is now a boolean mask with True where we have predicted that the motif will bind.\n",
    "\n",
    "**TASK**\n",
    "\n",
    "* How many peaks have at least one predicted binding site?\n",
    "* Also compute the number as a ratio of the total number of peaks"
   ],
   "metadata": {
    "collapsed": false
   }
  },
  {
   "cell_type": "markdown",
   "source": [
    "## Part 5: Bonus task\n",
    "\n",
    "We hyphotesize that there is another transcription factor that often bind to the same regions as CTCF. Since we are able to get the motifs of other transcription factors, we can try to do the same analysis as above with motifs of other transcription factors and see if any seem to give high scores inside CTCF peaks.\n",
    "\n",
    "* Fetch motifs for other transcription factors from Jaspar (see code below)\n",
    "* For each motif, find the ratio of peaks with a match\n",
    "* Try to see if one of the motifs has a high ratio of matches\n",
    "\n",
    "Start by fetching a bunch of motifs:"
   ],
   "metadata": {
    "collapsed": false
   }
  },
  {
   "cell_type": "code",
   "execution_count": null,
   "outputs": [],
   "source": [
    "tfs = [\"CREM\", \"ZNF263\", \"FOXA1\", \"NR3C1\"]\n",
    "for tf in tfs:\n",
    "    # get motif, analyse\n",
    "    print(tf)"
   ],
   "metadata": {
    "collapsed": false
   }
  },
  {
   "cell_type": "markdown",
   "source": [
    "PS: You can also get all human motifs from the Jaspar database with `human_motifs = jaspar_object.fetch_motifs(collection=\"CORE\", species=[\"9606\"])`, but analysing all of these might take some time."
   ],
   "metadata": {
    "collapsed": false
   }
  }
 ],
 "metadata": {
  "kernelspec": {
   "display_name": "Python 3",
   "language": "python",
   "name": "python3"
  },
  "language_info": {
   "codemirror_mode": {
    "name": "ipython",
    "version": 2
   },
   "file_extension": ".py",
   "mimetype": "text/x-python",
   "name": "python",
   "nbconvert_exporter": "python",
   "pygments_lexer": "ipython2",
   "version": "2.7.6"
  }
 },
 "nbformat": 4,
 "nbformat_minor": 0
}
