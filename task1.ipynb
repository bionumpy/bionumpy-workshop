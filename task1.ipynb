{
 "cells": [
  {
   "cell_type": "code",
   "execution_count": null,
   "metadata": {
    "collapsed": true
   },
   "outputs": [],
   "source": [
    "import numpy as np\n",
    "# we set a random seed to make things reproducible\n",
    "np.random.seed(1)"
   ]
  },
  {
   "cell_type": "markdown",
   "source": [
    "We simulate random sequences as a matrix where each row is a sequence represented by numbers 0 (A), 1 (C), 2 (T) and 3 (G):"
   ],
   "metadata": {
    "collapsed": false
   }
  },
  {
   "cell_type": "code",
   "execution_count": null,
   "outputs": [],
   "source": [
    "n_sequences = 10\n",
    "sequence_length = 30\n",
    "sequences = np.random.randint(0, 4, (n_sequences, sequence_length))"
   ],
   "metadata": {
    "collapsed": false
   }
  },
  {
   "cell_type": "markdown",
   "source": [
    "**Example:** How many C's are there in the sequences? We try to use vanilla Python code only:"
   ],
   "metadata": {
    "collapsed": false
   }
  },
  {
   "cell_type": "code",
   "execution_count": null,
   "outputs": [],
   "source": [
    "def count_c(sequences):\n",
    "    number_of_cs = 0\n",
    "    for sequence in sequences:\n",
    "        for base in sequence:\n",
    "            if base == 1:\n",
    "                number_of_cs += 1\n",
    "    return number_of_cs"
   ],
   "metadata": {
    "collapsed": false
   }
  },
  {
   "cell_type": "code",
   "execution_count": null,
   "outputs": [],
   "source": [
    "%time print(\"Result: \", count_c(sequences))"
   ],
   "metadata": {
    "collapsed": false
   }
  },
  {
   "cell_type": "markdown",
   "source": [
    "Try changing `n_sequences` to a larger number (e.g. 1000000) and measure the time the above code takes to run.\n",
    "\n",
    "Why do you think the above code is so slow?\n",
    "\n",
    "What happens inside Python when the above code is run?\n",
    "\n",
    "We try NumPy instead:"
   ],
   "metadata": {
    "collapsed": false
   }
  },
  {
   "cell_type": "code",
   "execution_count": null,
   "outputs": [],
   "source": [
    "def count_c_using_numpy(sequences):\n",
    "    is_c = sequences == 1\n",
    "    return np.sum(is_c)"
   ],
   "metadata": {
    "collapsed": false
   }
  },
  {
   "cell_type": "code",
   "execution_count": null,
   "outputs": [],
   "source": [
    "%time print(\"Result: \", count_c_using_numpy(sequences))"
   ],
   "metadata": {
    "collapsed": false
   }
  },
  {
   "cell_type": "markdown",
   "source": [
    "## Exercise\n",
    "Assume we have the following base qualities (a number between 0 and 60 for each base in each sequence):"
   ],
   "metadata": {
    "collapsed": false
   }
  },
  {
   "cell_type": "code",
   "execution_count": null,
   "outputs": [],
   "source": [
    "base_qualities = np.random.randint(0, 60, (n_sequences, sequence_length))"
   ],
   "metadata": {
    "collapsed": false
   }
  },
  {
   "cell_type": "markdown",
   "source": [
    "\n",
    "Given the above base qualities, make a function returns the number of bases with quality above 30.\n",
    "\n",
    "Bonus tasks if you found the task easy:\n",
    "\n",
    "* What is the mean base quality?\n",
    "* How many reads have mean base quality above 35?\n",
    "* What is the standard deviation of the base qualities? (Google numpy standard deviation)\n",
    "* What is the mean base quality of all the bases except the first base of each read?\n",
    "* What is the mean base quality of all the bases with quality above 30 not considering the first base of each read?\n"
   ],
   "metadata": {
    "collapsed": false
   }
  },
  {
   "cell_type": "code",
   "execution_count": null,
   "outputs": [],
   "source": [],
   "metadata": {
    "collapsed": false
   }
  }
 ],
 "metadata": {
  "kernelspec": {
   "display_name": "Python 3",
   "language": "python",
   "name": "python3"
  },
  "language_info": {
   "codemirror_mode": {
    "name": "ipython",
    "version": 2
   },
   "file_extension": ".py",
   "mimetype": "text/x-python",
   "name": "python",
   "nbconvert_exporter": "python",
   "pygments_lexer": "ipython2",
   "version": "2.7.6"
  }
 },
 "nbformat": 4,
 "nbformat_minor": 0
}
