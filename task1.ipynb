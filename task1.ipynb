{
 "cells": [
  {
   "cell_type": "markdown",
   "source": [
    "# Using NumPy to accelerate numeric operations\n",
    "\n",
    "The following code simulates random sequences as a matrix where each row is a sequence represented by numbers 0 (A), 1 (C), 2 (T) and 3 (G). We want to count the numbers of Cs in this sequence."
   ],
   "metadata": {
    "collapsed": false
   }
  },
  {
   "cell_type": "code",
   "execution_count": null,
   "metadata": {
    "collapsed": true
   },
   "outputs": [],
   "source": [
    "import numpy as np\n",
    "# we set a random seed to make things reproducible\n",
    "np.random.seed(1)\n",
    "\n",
    "n_sequences = 10\n",
    "sequence_length = 30\n",
    "sequences = np.random.randint(0, 4, (n_sequences, sequence_length))\n",
    "print(sequences)"
   ]
  },
  {
   "cell_type": "markdown",
   "source": [
    "We first use vanilla Python code to count the number of Cs:"
   ],
   "metadata": {
    "collapsed": false
   }
  },
  {
   "cell_type": "code",
   "execution_count": null,
   "outputs": [],
   "source": [
    "def count_c(sequences):\n",
    "    number_of_cs = 0\n",
    "    for sequence in sequences:\n",
    "        for base in sequence:\n",
    "            if base == 1:\n",
    "                number_of_cs += 1\n",
    "    return number_of_cs"
   ],
   "metadata": {
    "collapsed": false
   }
  },
  {
   "cell_type": "code",
   "execution_count": null,
   "outputs": [],
   "source": [
    "%time print(\"Result: \", count_c(sequences))"
   ],
   "metadata": {
    "collapsed": false
   }
  },
  {
   "cell_type": "markdown",
   "source": [
    "**TASK**\n",
    "\n",
    "Try changing `n_sequences` to a larger number (e.g. 1000000) and see how long time the above code takes to run.\n",
    "\n",
    "Next, we have implemented the same functionality in NumPy. How much faster is NumPy than pure Python?"
   ],
   "metadata": {
    "collapsed": false
   }
  },
  {
   "cell_type": "code",
   "execution_count": null,
   "outputs": [],
   "source": [
    "def count_c_using_numpy(sequences):\n",
    "    is_c = sequences == 1\n",
    "    return np.sum(is_c)"
   ],
   "metadata": {
    "collapsed": false
   }
  },
  {
   "cell_type": "code",
   "execution_count": null,
   "outputs": [],
   "source": [
    "%time print(\"Result: \", count_c_using_numpy(sequences))"
   ],
   "metadata": {
    "collapsed": false
   }
  },
  {
   "cell_type": "markdown",
   "source": [
    "**TASK**\n",
    "\n",
    "Assume we have the following base qualities (a number between 0 and 60 for each base in each sequence):"
   ],
   "metadata": {
    "collapsed": false
   }
  },
  {
   "cell_type": "code",
   "execution_count": null,
   "outputs": [],
   "source": [
    "base_qualities = np.random.randint(0, 60, (n_sequences, sequence_length))"
   ],
   "metadata": {
    "collapsed": false
   }
  },
  {
   "cell_type": "markdown",
   "source": [
    "\n",
    "Given the above base qualities, try to find how many are **above 30**.\n",
    "\n",
    "If you have time, also try to answer these questions using NumPy:\n",
    "\n",
    "* What is the mean base quality?\n",
    "* Compute the mean base quality for each read (hint: you need to use `axis=....`)\n",
    "* How many reads have mean base quality above 35?\n",
    "* What is the standard deviation of the base qualities? (You can google numpy standard deviation if you don't know which function to use)\n",
    "* What is the mean base quality of all the bases except the first base of each read?\n",
    "* What is the mean base quality of all the bases with quality above 30 not considering the first base of each read?"
   ],
   "metadata": {
    "collapsed": false
   }
  },
  {
   "cell_type": "code",
   "execution_count": null,
   "outputs": [],
   "source": [
    "# You can write code here"
   ],
   "metadata": {
    "collapsed": false
   }
  }
 ],
 "metadata": {
  "kernelspec": {
   "display_name": "Python 3",
   "language": "python",
   "name": "python3"
  },
  "language_info": {
   "codemirror_mode": {
    "name": "ipython",
    "version": 2
   },
   "file_extension": ".py",
   "mimetype": "text/x-python",
   "name": "python",
   "nbconvert_exporter": "python",
   "pygments_lexer": "ipython2",
   "version": "2.7.6"
  }
 },
 "nbformat": 4,
 "nbformat_minor": 0
}
