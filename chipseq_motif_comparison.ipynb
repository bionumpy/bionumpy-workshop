{
 "cells": [
  {
   "cell_type": "code",
   "execution_count": null,
   "metadata": {},
   "outputs": [],
   "source": [
    "import bionumpy as bnp\n",
    "from pyjaspar import jaspardb\n",
    "from bionumpy.sequence.position_weight_matrix import PWM, get_motif_scores\n",
    "import numpy as np\n",
    "import plotly.express as plx"
   ]
  },
  {
   "cell_type": "markdown",
   "metadata": {},
   "source": [
    "Get the ctcf bed file<br>\n",
    "! wget https://www.encodeproject.org/files/ENCFF843VHC/@@download/ENCFF843VHC.bed.gz"
   ]
  },
  {
   "cell_type": "code",
   "execution_count": null,
   "metadata": {},
   "outputs": [],
   "source": [
    "peaks = bnp.open(\"ENCFF843VHC.bed.gz\").read()\n",
    "reference_genome = bnp.open_indexed(\"/home/knut/Data/hg38.fa\")\n",
    "contig_lenghts = reference_genome.get_contig_lengths()\n",
    "sorted_peaks = bnp.arithmetics.sort_all_intervals(peaks, sort_order=list(contig_lenghts.keys()))"
   ]
  },
  {
   "cell_type": "markdown",
   "metadata": {},
   "source": [
    "contig_lenghts = bnp.MultiStream.sort_dict_by_key(reference_genome.get_contig_lengths())"
   ]
  },
  {
   "cell_type": "markdown",
   "metadata": {},
   "source": [
    "We need to synch our peaks to the reference genome"
   ]
  },
  {
   "cell_type": "code",
   "execution_count": null,
   "metadata": {},
   "outputs": [],
   "source": [
    "multistream = bnp.MultiStream(contig_lenghts,\n",
    "                              intervals=sorted_peaks,\n",
    "                              sequence=reference_genome)"
   ]
  },
  {
   "cell_type": "markdown",
   "metadata": {},
   "source": [
    "Get the sequences of the peaks"
   ]
  },
  {
   "cell_type": "code",
   "execution_count": null,
   "metadata": {},
   "outputs": [],
   "source": [
    "sequence_stream = bnp.sequence.get_sequences(multistream.sequence,\n",
    "                                             multistream.intervals)"
   ]
  },
  {
   "cell_type": "markdown",
   "metadata": {},
   "source": [
    "Merge all the sequences from the stream"
   ]
  },
  {
   "cell_type": "code",
   "execution_count": null,
   "metadata": {},
   "outputs": [],
   "source": [
    "sequences = np.concatenate(list(sequence_stream))"
   ]
  },
  {
   "cell_type": "markdown",
   "metadata": {},
   "source": [
    "Get all human motifs :)"
   ]
  },
  {
   "cell_type": "code",
   "execution_count": null,
   "metadata": {},
   "outputs": [],
   "source": [
    "jdb_obj = jaspardb(release=\"JASPAR2020\")\n",
    "human_motifs = jdb_obj.fetch_motifs(collection=\"CORE\", species=[\"9606\"])"
   ]
  },
  {
   "cell_type": "code",
   "execution_count": null,
   "metadata": {},
   "outputs": [],
   "source": [
    "counts = []\n",
    "lengths = []\n",
    "# Calculate the motif scores for each sequence\n",
    "for i, motif in enumerate(human_motifs):\n",
    "    if i % 10 == 0:\n",
    "        print(i)\n",
    "    pwm = PWM.from_dict(motif.pwm)\n",
    "    motif_scores = get_motif_scores(sequences, pwm)\n",
    "    adjusted_scores = motif_scores-np.logaddexp(motif_scores, motif.length*np.log(0.25))\n",
    "    counts.append((adjusted_scores.max(axis=-1) > np.log(0.9)).sum())\n",
    "    lengths.append(motif.length)"
   ]
  },
  {
   "cell_type": "markdown",
   "metadata": {},
   "source": [
    "heck that lentghts are not an influencing factor"
   ]
  },
  {
   "cell_type": "code",
   "execution_count": null,
   "metadata": {},
   "outputs": [],
   "source": [
    "plx.scatter(lengths, counts)"
   ]
  },
  {
   "cell_type": "code",
   "execution_count": null,
   "metadata": {},
   "outputs": [],
   "source": [
    "names = [m.name for m in human_motifs]"
   ]
  },
  {
   "cell_type": "markdown",
   "metadata": {},
   "source": [
    "ort by number of significant hit"
   ]
  },
  {
   "cell_type": "code",
   "execution_count": null,
   "metadata": {},
   "outputs": [],
   "source": [
    "args = np.argsort(counts)\n",
    "sorted_names = [names[i] for i in args]"
   ]
  }
 ],
 "metadata": {
  "kernelspec": {
   "display_name": "Python 3 (ipykernel)",
   "language": "python",
   "name": "python3"
  },
  "language_info": {
   "codemirror_mode": {
    "name": "ipython",
    "version": 3
   },
   "file_extension": ".py",
   "mimetype": "text/x-python",
   "name": "python",
   "nbconvert_exporter": "python",
   "pygments_lexer": "ipython3",
   "version": "3.9.7"
  }
 },
 "nbformat": 4,
 "nbformat_minor": 2
}
