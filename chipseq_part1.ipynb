{
 "cells": [
  {
   "cell_type": "markdown",
   "source": [
    "# Analysing ChIP-seq data with BioNumPy\n",
    "\n",
    "In this task, we will use BioNumPy to analyse the transcription factor CTCF. We will work with a publically available dataset from the Encode Project.\n",
    "\n",
    "The task is divided into four parts:\n",
    "\n",
    "1) Filter/analyse the raw FASTQ reads\n",
    "2) Look for motif matches in the FASTQ reads\n",
    "3) Analyse the peaks\n",
    "4) Analyse multiple peak data sets together (multiomics)\n",
    "\n",
    "## Part 1\n",
    "\n",
    "Start by downloading raw FASTQ data from ENCODE if you havn't already:\n"
   ],
   "metadata": {
    "collapsed": false
   }
  },
  {
   "cell_type": "code",
   "execution_count": null,
   "outputs": [],
   "source": [
    "!wget https://www.encodeproject.org/files/ENCFF001HTO/@@download/ENCFF001HTO.fastq.gz"
   ],
   "metadata": {
    "collapsed": false
   }
  },
  {
   "cell_type": "markdown",
   "source": [
    "Use BioNumPy to analyse the raw reads. For instance, try to find the following (or other things you are interested in):\n",
    "\n",
    "* The total number of reads\n",
    "* The total number of bases in the reads\n",
    "* The average read length\n",
    "* The total number of G and C\n",
    "* The GC-content\n",
    "* The average base quality\n",
    "\n",
    "Feel free to look at code from the previous part if you've forgotten how to do things."
   ],
   "metadata": {
    "collapsed": false
   }
  },
  {
   "cell_type": "markdown",
   "source": [
    "## Part 2: Analysing motif matches\n",
    "\n",
    "Assume we have used the FASTQ-reads from the previous part to perform peak calling of the CTCF trancsription factor.\n",
    "\n",
    "We have obtained a narrowPeak file with the called peaks, which are intervals on a reference genome. We also need the hg38 reference genome sequence."
   ],
   "metadata": {
    "collapsed": false
   }
  },
  {
   "cell_type": "code",
   "execution_count": null,
   "outputs": [],
   "source": [
    "!wget ..\n",
    "!wget https://hgdownload.soe.ucsc.edu/goldenPath/hg38/bigZips/hg38.fa.gz"
   ],
   "metadata": {
    "collapsed": false
   }
  },
  {
   "cell_type": "markdown",
   "source": [
    "**TASK** Read the file using BioNumPy. Find out which fields your dataset has."
   ],
   "metadata": {
    "collapsed": false
   }
  }
 ],
 "metadata": {
  "kernelspec": {
   "display_name": "Python 3",
   "language": "python",
   "name": "python3"
  },
  "language_info": {
   "codemirror_mode": {
    "name": "ipython",
    "version": 2
   },
   "file_extension": ".py",
   "mimetype": "text/x-python",
   "name": "python",
   "nbconvert_exporter": "python",
   "pygments_lexer": "ipython2",
   "version": "2.7.6"
  }
 },
 "nbformat": 4,
 "nbformat_minor": 0
}
