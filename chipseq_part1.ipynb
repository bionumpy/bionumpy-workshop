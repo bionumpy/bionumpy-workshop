{
 "cells": [
  {
   "cell_type": "markdown",
   "source": [
    "# Analysing ChIP-seq data with BioNumPy\n",
    "\n",
    "In this task, we will use BioNumPy to analyse the transcription factor CTCF. We will work with a publically available dataset from the Encode Project.\n",
    "\n",
    "The task is divided into four parts:\n",
    "\n",
    "1) Filter/analyse the raw FASTQ reads\n",
    "2) Look for motif matches in the FASTQ reads\n",
    "3) Analyse the peaks\n",
    "4) Analyse multiple peak data sets together (multiomics)\n",
    "\n",
    "\n",
    "## Part 1"
   ],
   "metadata": {
    "collapsed": false
   }
  }
 ],
 "metadata": {
  "kernelspec": {
   "display_name": "Python 3",
   "language": "python",
   "name": "python3"
  },
  "language_info": {
   "codemirror_mode": {
    "name": "ipython",
    "version": 2
   },
   "file_extension": ".py",
   "mimetype": "text/x-python",
   "name": "python",
   "nbconvert_exporter": "python",
   "pygments_lexer": "ipython2",
   "version": "2.7.6"
  }
 },
 "nbformat": 4,
 "nbformat_minor": 0
}
